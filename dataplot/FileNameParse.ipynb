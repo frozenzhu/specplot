{
 "cells": [
  {
   "cell_type": "code",
   "execution_count": 3,
   "id": "a5c88b45",
   "metadata": {},
   "outputs": [
    {
     "name": "stdout",
     "output_type": "stream",
     "text": [
      "C:\\Group\\NIR\\opv\\2D\\Y6\\20211228-622pump-5uw\\211228_133037_0ps.2dv\n"
     ]
    }
   ],
   "source": [
    "import os\n",
    "def NameParse(folder_path):\n",
    "    filepath = []\n",
    "    for maindir, subdie, file_name_list in os.walk(folder_path):\n",
    "        for file_name in file_name_list:\n",
    "            filepath.append(os.path.join(maindir, file_name))\n",
    "            \n",
    "    DelayList = []\n",
    "    start_index = 0\n",
    "    end_index = 0\n",
    "    FileDict = {}\n",
    "    for i in range(len(filepath)):\n",
    "        for j in range(len(filepath[i])):\n",
    "            if filepath[i][j] == '_':\n",
    "                start_index = j\n",
    "            elif filepath[i][j] == 'p':\n",
    "                end_index = j\n",
    "            Delay = filepath[i][start_index+1:end_index+2]  \n",
    "        FileDict.setdefault(Delay,[]).append(filepath[i])\n",
    "    \n",
    "    return FileDict\n",
    "\n",
    "a=NameParse( r'C:\\Group\\NIR\\opv\\2D\\Y6\\20211228-622pump-5uw')\n",
    "#print(b)\n",
    "key=list(a.keys())\n",
    "print(a[key[1]][1])"
   ]
  },
  {
   "cell_type": "code",
   "execution_count": null,
   "id": "746b230d",
   "metadata": {},
   "outputs": [],
   "source": []
  },
  {
   "cell_type": "code",
   "execution_count": null,
   "id": "851d9ac8",
   "metadata": {},
   "outputs": [],
   "source": []
  },
  {
   "cell_type": "code",
   "execution_count": null,
   "id": "a61066d8",
   "metadata": {},
   "outputs": [],
   "source": []
  }
 ],
 "metadata": {
  "kernelspec": {
   "display_name": "Python 3 (ipykernel)",
   "language": "python",
   "name": "python3"
  },
  "language_info": {
   "codemirror_mode": {
    "name": "ipython",
    "version": 3
   },
   "file_extension": ".py",
   "mimetype": "text/x-python",
   "name": "python",
   "nbconvert_exporter": "python",
   "pygments_lexer": "ipython3",
   "version": "3.9.7"
  }
 },
 "nbformat": 4,
 "nbformat_minor": 5
}
